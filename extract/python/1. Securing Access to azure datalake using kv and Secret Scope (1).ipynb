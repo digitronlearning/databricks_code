{
 "cells": [
  {
   "cell_type": "markdown",
   "metadata": {
    "application/vnd.databricks.v1+cell": {
     "cellMetadata": {
      "byteLimit": 2048000,
      "rowLimit": 10000
     },
     "inputWidgets": {},
     "nuid": "af79eff7-5069-4438-af4f-62b7ea5dbf9a",
     "showTitle": false,
     "tableResultSettingsMap": {},
     "title": ""
    }
   },
   "source": [
    "Securing  Access to Azure Data lake \n",
    "\n",
    "Databricks offer a service called Databricks Secret Scope\n",
    "Azure offers a service called Azure Key Vault\n",
    "We can combine both to secure access to azure datalake\n",
    "\n",
    "Secret Scope stores the credentials securely and refrence them in \n",
    "notebooks and cluster whenever required.\n",
    "\n",
    "There are 2 types of secrets scope in DB\n",
    "- Databricks Backed Secret Scope\n",
    "- Azure key-vault backed secret scope [ Recommended Approach]\n",
    "\n",
    "Process\n",
    "\tCreate Azure Key vault\n",
    "\tAdd secrets to key vault\n",
    "\tDatabricks Secret Scope\n",
    "\tCreate Databricks secret scope\n",
    "\tUse secret scope in Notebooks/Cluster \n",
    "\tget secrets using dbutils.secrets.get\n",
    "\n",
    "\n",
    "dbutils.secrets.help()\n",
    "\n",
    "dbutils.secrets.listScope()\n",
    "\n",
    "dbutils.secrets.list(scope='scopename')\n",
    "\n",
    "dbutils.secrets.get(scope='scopename', key=\"kv-keyname')\n",
    "\n",
    "key=dbutils.secrets.get(scope='scopename', key=\"kv-keyname')\n",
    "\n",
    "\n",
    "\n",
    "\n",
    "\n"
   ]
  },
  {
   "cell_type": "code",
   "execution_count": 0,
   "metadata": {
    "application/vnd.databricks.v1+cell": {
     "cellMetadata": {
      "byteLimit": 2048000,
      "rowLimit": 10000
     },
     "inputWidgets": {},
     "nuid": "3c793b9e-1099-42a2-a4fe-931c99c01b40",
     "showTitle": false,
     "tableResultSettingsMap": {},
     "title": ""
    }
   },
   "outputs": [
    {
     "output_type": "display_data",
     "data": {
      "text/html": [
       "<div class = \"ansiout\">\n",
       "Provides utilities for leveraging secrets within notebooks.\n",
       "Databricks documentation for more info.\n",
       "    <h3></h3><b>get(scope: String, key: String): String</b> -> Gets the string representation of a secret value with scope and key<br /><b>getBytes(scope: String, key: String): byte[]</b> -> Gets the bytes representation of a secret value with scope and key<br /><b>list(scope: String): Seq</b> -> Lists secret metadata for secrets within a scope<br /><b>listScopes: Seq</b> -> Lists secret scopes<br /><br /></div>"
      ]
     },
     "metadata": {},
     "output_type": "display_data"
    }
   ],
   "source": [
    "dbutils.secrets.help()"
   ]
  },
  {
   "cell_type": "code",
   "execution_count": 0,
   "metadata": {
    "application/vnd.databricks.v1+cell": {
     "cellMetadata": {
      "byteLimit": 2048000,
      "rowLimit": 10000
     },
     "inputWidgets": {},
     "nuid": "42d2eda2-b0a0-4818-a59c-f8b554dc4f36",
     "showTitle": false,
     "tableResultSettingsMap": {},
     "title": ""
    }
   },
   "outputs": [
    {
     "output_type": "display_data",
     "data": {
      "text/html": [
       "<style scoped>\n",
       "  .table-result-container {\n",
       "    max-height: 300px;\n",
       "    overflow: auto;\n",
       "  }\n",
       "  table, th, td {\n",
       "    border: 1px solid black;\n",
       "    border-collapse: collapse;\n",
       "  }\n",
       "  th, td {\n",
       "    padding: 5px;\n",
       "  }\n",
       "  th {\n",
       "    text-align: left;\n",
       "  }\n",
       "</style><div class='table-result-container'><table class='table-result'><thead style='background-color: white'><tr><th>name</th></tr></thead><tbody><tr><td>batch2-scope</td></tr><tr><td>cc</td></tr><tr><td>Databricks-training-scope</td></tr><tr><td>Databricks-training-scope1</td></tr><tr><td>db-scope</td></tr><tr><td>db-t</td></tr></tbody></table></div>"
      ]
     },
     "metadata": {
      "application/vnd.databricks.v1+output": {
       "addedWidgets": {},
       "aggData": [],
       "aggError": "",
       "aggOverflow": false,
       "aggSchema": [],
       "aggSeriesLimitReached": false,
       "aggType": "",
       "arguments": {},
       "columnCustomDisplayInfos": {},
       "data": [
        [
         "batch2-scope"
        ],
        [
         "cc"
        ],
        [
         "Databricks-training-scope"
        ],
        [
         "Databricks-training-scope1"
        ],
        [
         "db-scope"
        ],
        [
         "db-t"
        ]
       ],
       "datasetInfos": [],
       "dbfsResultPath": null,
       "isJsonSchema": true,
       "metadata": {},
       "overflow": false,
       "plotOptions": {
        "customPlotOptions": {},
        "displayType": "table",
        "pivotAggregation": null,
        "pivotColumns": null,
        "xColumns": null,
        "yColumns": null
       },
       "removedWidgets": [],
       "schema": [
        {
         "metadata": "{}",
         "name": "name",
         "type": "\"string\""
        }
       ],
       "type": "table"
      }
     },
     "output_type": "display_data"
    }
   ],
   "source": [
    "display(dbutils.secrets.listScopes())\n"
   ]
  },
  {
   "cell_type": "code",
   "execution_count": 0,
   "metadata": {
    "application/vnd.databricks.v1+cell": {
     "cellMetadata": {
      "byteLimit": 2048000,
      "rowLimit": 10000
     },
     "inputWidgets": {},
     "nuid": "350eb735-0623-4ce6-bb55-718a9bb74ab2",
     "showTitle": false,
     "tableResultSettingsMap": {},
     "title": ""
    }
   },
   "outputs": [
    {
     "output_type": "execute_result",
     "data": {
      "text/plain": [
       "[SecretMetadata(key='acc-key'),\n",
       " SecretMetadata(key='account-key'),\n",
       " SecretMetadata(key='client-id'),\n",
       " SecretMetadata(key='client-sec'),\n",
       " SecretMetadata(key='databrick-training-access-key'),\n",
       " SecretMetadata(key='demo-client-id'),\n",
       " SecretMetadata(key='demo-client-sec'),\n",
       " SecretMetadata(key='demo-tenant-id'),\n",
       " SecretMetadata(key='tenant-id')]"
      ]
     },
     "execution_count": 3,
     "metadata": {},
     "output_type": "execute_result"
    }
   ],
   "source": [
    "dbutils.secrets.list(\"batch2-scope\")"
   ]
  },
  {
   "cell_type": "code",
   "execution_count": 0,
   "metadata": {
    "application/vnd.databricks.v1+cell": {
     "cellMetadata": {
      "byteLimit": 2048000,
      "rowLimit": 10000
     },
     "inputWidgets": {},
     "nuid": "6514b6a9-1f81-4057-a8c1-ef38ecbd900d",
     "showTitle": false,
     "tableResultSettingsMap": {},
     "title": ""
    }
   },
   "outputs": [],
   "source": [
    "client_id=dbutils.secrets.get(scope='batch2-scope', key='demo-client-id')\n",
    "tenant_id=dbutils.secrets.get(scope='batch2-scope', key='demo-tenant-id')\n",
    "client_sec=dbutils.secrets.get(scope='batch2-scope', key='demo-client-sec')\n"
   ]
  },
  {
   "cell_type": "code",
   "execution_count": 0,
   "metadata": {
    "application/vnd.databricks.v1+cell": {
     "cellMetadata": {
      "byteLimit": 2048000,
      "rowLimit": 10000
     },
     "inputWidgets": {},
     "nuid": "d3895e05-b47c-4c50-a353-d7638cbed8a3",
     "showTitle": false,
     "tableResultSettingsMap": {},
     "title": ""
    }
   },
   "outputs": [],
   "source": [
    "#service_credential = dbutils.secrets.get(scope=\"sadevelt\",key=\"<service-credential-key>\")\n",
    "\n",
    "spark.conf.set(\"fs.azure.account.auth.type.databrickstraining1.dfs.core.windows.net\", \"OAuth\")\n",
    "spark.conf.set(\"fs.azure.account.oauth.provider.type.databrickstraining1.dfs.core.windows.net\", \"org.apache.hadoop.fs.azurebfs.oauth2.ClientCredsTokenProvider\")\n",
    "spark.conf.set(\"fs.azure.account.oauth2.client.id.databrickstraining1.dfs.core.windows.net\", client_id)\n",
    "spark.conf.set(\"fs.azure.account.oauth2.client.secret.databrickstraining1.dfs.core.windows.net\", client_sec)\n",
    "spark.conf.set(\"fs.azure.account.oauth2.client.endpoint.databrickstraining1.dfs.core.windows.net\", f\"https://login.microsoftonline.com/{tenant_id}/oauth2/token\")"
   ]
  },
  {
   "cell_type": "code",
   "execution_count": 0,
   "metadata": {
    "application/vnd.databricks.v1+cell": {
     "cellMetadata": {
      "byteLimit": 2048000,
      "rowLimit": 10000
     },
     "inputWidgets": {},
     "nuid": "20c73b6b-6245-4a42-a229-385c233897bd",
     "showTitle": false,
     "tableResultSettingsMap": {},
     "title": ""
    }
   },
   "outputs": [
    {
     "output_type": "display_data",
     "data": {
      "text/html": [
       "<style scoped>\n",
       "  .table-result-container {\n",
       "    max-height: 300px;\n",
       "    overflow: auto;\n",
       "  }\n",
       "  table, th, td {\n",
       "    border: 1px solid black;\n",
       "    border-collapse: collapse;\n",
       "  }\n",
       "  th, td {\n",
       "    padding: 5px;\n",
       "  }\n",
       "  th {\n",
       "    text-align: left;\n",
       "  }\n",
       "</style><div class='table-result-container'><table class='table-result'><thead style='background-color: white'><tr><th>path</th><th>name</th><th>size</th><th>modificationTime</th></tr></thead><tbody><tr><td>abfss://demo@databrickstraining1.dfs.core.windows.net/1. DBUTILS lib.ipynb</td><td>1. DBUTILS lib.ipynb</td><td>50434</td><td>1748062867000</td></tr><tr><td>abfss://demo@databrickstraining1.dfs.core.windows.net/1.Pyspark Windowing Function.ipynb</td><td>1.Pyspark Windowing Function.ipynb</td><td>486065</td><td>1748062867000</td></tr><tr><td>abfss://demo@databrickstraining1.dfs.core.windows.net/2. Dataframe vs RDD.ipynb</td><td>2. Dataframe vs RDD.ipynb</td><td>11241</td><td>1748062867000</td></tr><tr><td>abfss://demo@databrickstraining1.dfs.core.windows.net/Pune_to_KNW.pdf</td><td>Pune_to_KNW.pdf</td><td>320458</td><td>1749092298000</td></tr><tr><td>abfss://demo@databrickstraining1.dfs.core.windows.net/demo/</td><td>demo/</td><td>0</td><td>1748858973000</td></tr><tr><td>abfss://demo@databrickstraining1.dfs.core.windows.net/employee/</td><td>employee/</td><td>0</td><td>1748078809000</td></tr><tr><td>abfss://demo@databrickstraining1.dfs.core.windows.net/external_loc/</td><td>external_loc/</td><td>0</td><td>1748570294000</td></tr><tr><td>abfss://demo@databrickstraining1.dfs.core.windows.net/user1/</td><td>user1/</td><td>0</td><td>1748508749000</td></tr><tr><td>abfss://demo@databrickstraining1.dfs.core.windows.net/users_001.csv</td><td>users_001.csv</td><td>54283</td><td>1747449138000</td></tr></tbody></table></div>"
      ]
     },
     "metadata": {
      "application/vnd.databricks.v1+output": {
       "addedWidgets": {},
       "aggData": [],
       "aggError": "",
       "aggOverflow": false,
       "aggSchema": [],
       "aggSeriesLimitReached": false,
       "aggType": "",
       "arguments": {},
       "columnCustomDisplayInfos": {},
       "data": [
        [
         "abfss://demo@databrickstraining1.dfs.core.windows.net/1. DBUTILS lib.ipynb",
         "1. DBUTILS lib.ipynb",
         50434,
         1748062867000
        ],
        [
         "abfss://demo@databrickstraining1.dfs.core.windows.net/1.Pyspark Windowing Function.ipynb",
         "1.Pyspark Windowing Function.ipynb",
         486065,
         1748062867000
        ],
        [
         "abfss://demo@databrickstraining1.dfs.core.windows.net/2. Dataframe vs RDD.ipynb",
         "2. Dataframe vs RDD.ipynb",
         11241,
         1748062867000
        ],
        [
         "abfss://demo@databrickstraining1.dfs.core.windows.net/Pune_to_KNW.pdf",
         "Pune_to_KNW.pdf",
         320458,
         1749092298000
        ],
        [
         "abfss://demo@databrickstraining1.dfs.core.windows.net/demo/",
         "demo/",
         0,
         1748858973000
        ],
        [
         "abfss://demo@databrickstraining1.dfs.core.windows.net/employee/",
         "employee/",
         0,
         1748078809000
        ],
        [
         "abfss://demo@databrickstraining1.dfs.core.windows.net/external_loc/",
         "external_loc/",
         0,
         1748570294000
        ],
        [
         "abfss://demo@databrickstraining1.dfs.core.windows.net/user1/",
         "user1/",
         0,
         1748508749000
        ],
        [
         "abfss://demo@databrickstraining1.dfs.core.windows.net/users_001.csv",
         "users_001.csv",
         54283,
         1747449138000
        ]
       ],
       "datasetInfos": [],
       "dbfsResultPath": null,
       "isJsonSchema": true,
       "metadata": {},
       "overflow": false,
       "plotOptions": {
        "customPlotOptions": {},
        "displayType": "table",
        "pivotAggregation": null,
        "pivotColumns": null,
        "xColumns": null,
        "yColumns": null
       },
       "removedWidgets": [],
       "schema": [
        {
         "metadata": "{}",
         "name": "path",
         "type": "\"string\""
        },
        {
         "metadata": "{}",
         "name": "name",
         "type": "\"string\""
        },
        {
         "metadata": "{}",
         "name": "size",
         "type": "\"long\""
        },
        {
         "metadata": "{}",
         "name": "modificationTime",
         "type": "\"long\""
        }
       ],
       "type": "table"
      }
     },
     "output_type": "display_data"
    }
   ],
   "source": [
    "display(dbutils.fs.ls(\"abfss://demo@databrickstraining1.dfs.core.windows.net\"))"
   ]
  },
  {
   "cell_type": "code",
   "execution_count": 0,
   "metadata": {
    "application/vnd.databricks.v1+cell": {
     "cellMetadata": {
      "byteLimit": 2048000,
      "rowLimit": 10000
     },
     "inputWidgets": {},
     "nuid": "b099ec36-d4f7-4fbd-83d3-852055cb62c4",
     "showTitle": false,
     "tableResultSettingsMap": {},
     "title": ""
    }
   },
   "outputs": [
    {
     "output_type": "display_data",
     "data": {
      "text/html": [
       "<style scoped>\n",
       "  .table-result-container {\n",
       "    max-height: 300px;\n",
       "    overflow: auto;\n",
       "  }\n",
       "  table, th, td {\n",
       "    border: 1px solid black;\n",
       "    border-collapse: collapse;\n",
       "  }\n",
       "  th, td {\n",
       "    padding: 5px;\n",
       "  }\n",
       "  th {\n",
       "    text-align: left;\n",
       "  }\n",
       "</style><div class='table-result-container'><table class='table-result'><thead style='background-color: white'><tr><th>path</th><th>name</th><th>size</th><th>modificationTime</th></tr></thead><tbody><tr><td>abfss://demo@databrickstraining1.dfs.core.windows.net/1. DBUTILS lib.ipynb</td><td>1. DBUTILS lib.ipynb</td><td>50434</td><td>1748062867000</td></tr><tr><td>abfss://demo@databrickstraining1.dfs.core.windows.net/1.Pyspark Windowing Function.ipynb</td><td>1.Pyspark Windowing Function.ipynb</td><td>486065</td><td>1748062867000</td></tr><tr><td>abfss://demo@databrickstraining1.dfs.core.windows.net/2. Dataframe vs RDD.ipynb</td><td>2. Dataframe vs RDD.ipynb</td><td>11241</td><td>1748062867000</td></tr><tr><td>abfss://demo@databrickstraining1.dfs.core.windows.net/Pune_to_KNW.pdf</td><td>Pune_to_KNW.pdf</td><td>320458</td><td>1749092298000</td></tr><tr><td>abfss://demo@databrickstraining1.dfs.core.windows.net/demo/</td><td>demo/</td><td>0</td><td>1748858973000</td></tr><tr><td>abfss://demo@databrickstraining1.dfs.core.windows.net/employee/</td><td>employee/</td><td>0</td><td>1748078809000</td></tr><tr><td>abfss://demo@databrickstraining1.dfs.core.windows.net/external_loc/</td><td>external_loc/</td><td>0</td><td>1748570294000</td></tr><tr><td>abfss://demo@databrickstraining1.dfs.core.windows.net/user1/</td><td>user1/</td><td>0</td><td>1748508749000</td></tr><tr><td>abfss://demo@databrickstraining1.dfs.core.windows.net/users_001.csv</td><td>users_001.csv</td><td>54283</td><td>1747449138000</td></tr></tbody></table></div>"
      ]
     },
     "metadata": {
      "application/vnd.databricks.v1+output": {
       "addedWidgets": {},
       "aggData": [],
       "aggError": "",
       "aggOverflow": false,
       "aggSchema": [],
       "aggSeriesLimitReached": false,
       "aggType": "",
       "arguments": {},
       "columnCustomDisplayInfos": {},
       "data": [
        [
         "abfss://demo@databrickstraining1.dfs.core.windows.net/1. DBUTILS lib.ipynb",
         "1. DBUTILS lib.ipynb",
         50434,
         1748062867000
        ],
        [
         "abfss://demo@databrickstraining1.dfs.core.windows.net/1.Pyspark Windowing Function.ipynb",
         "1.Pyspark Windowing Function.ipynb",
         486065,
         1748062867000
        ],
        [
         "abfss://demo@databrickstraining1.dfs.core.windows.net/2. Dataframe vs RDD.ipynb",
         "2. Dataframe vs RDD.ipynb",
         11241,
         1748062867000
        ],
        [
         "abfss://demo@databrickstraining1.dfs.core.windows.net/Pune_to_KNW.pdf",
         "Pune_to_KNW.pdf",
         320458,
         1749092298000
        ],
        [
         "abfss://demo@databrickstraining1.dfs.core.windows.net/demo/",
         "demo/",
         0,
         1748858973000
        ],
        [
         "abfss://demo@databrickstraining1.dfs.core.windows.net/employee/",
         "employee/",
         0,
         1748078809000
        ],
        [
         "abfss://demo@databrickstraining1.dfs.core.windows.net/external_loc/",
         "external_loc/",
         0,
         1748570294000
        ],
        [
         "abfss://demo@databrickstraining1.dfs.core.windows.net/user1/",
         "user1/",
         0,
         1748508749000
        ],
        [
         "abfss://demo@databrickstraining1.dfs.core.windows.net/users_001.csv",
         "users_001.csv",
         54283,
         1747449138000
        ]
       ],
       "datasetInfos": [],
       "dbfsResultPath": null,
       "isJsonSchema": true,
       "metadata": {},
       "overflow": false,
       "plotOptions": {
        "customPlotOptions": {},
        "displayType": "table",
        "pivotAggregation": null,
        "pivotColumns": null,
        "xColumns": null,
        "yColumns": null
       },
       "removedWidgets": [],
       "schema": [
        {
         "metadata": "{}",
         "name": "path",
         "type": "\"string\""
        },
        {
         "metadata": "{}",
         "name": "name",
         "type": "\"string\""
        },
        {
         "metadata": "{}",
         "name": "size",
         "type": "\"long\""
        },
        {
         "metadata": "{}",
         "name": "modificationTime",
         "type": "\"long\""
        }
       ],
       "type": "table"
      }
     },
     "output_type": "display_data"
    }
   ],
   "source": [
    "display(dbutils.fs.ls(\"abfss://demo@databrickstraining1.dfs.core.windows.net\"))"
   ]
  }
 ],
 "metadata": {
  "application/vnd.databricks.v1+notebook": {
   "computePreferences": null,
   "dashboards": [],
   "environmentMetadata": {
    "base_environment": "",
    "environment_version": "2"
   },
   "inputWidgetPreferences": null,
   "language": "python",
   "notebookMetadata": {
    "pythonIndentUnit": 4
   },
   "notebookName": "1. Securing Access to azure datalake using kv and Secret Scope",
   "widgets": {}
  },
  "language_info": {
   "name": "python"
  }
 },
 "nbformat": 4,
 "nbformat_minor": 0
}